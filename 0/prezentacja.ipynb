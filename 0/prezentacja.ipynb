{
 "cells": [
  {
   "cell_type": "markdown",
   "metadata": {
    "slideshow": {
     "slide_type": "slide"
    }
   },
   "source": [
    "# Kurs podstaw AI\n",
    "Michał Karol\n",
    "\n",
    "Organizator: Koło naukowe BioMedicalAI  \n",
    "![biomedical.svg](biomedical.svg)"
   ]
  },
  {
   "cell_type": "markdown",
   "metadata": {
    "slideshow": {
     "slide_type": "slide"
    }
   },
   "source": [
    "# Plan spotkania\n",
    "1) O mnie\n",
    "2) Zawartośc kursu\n",
    "3) Trochę o zastosowaniach AI\n",
    "4) Ankieta - zapoznajmy się\n",
    "5) Pytania i odpowiedzi"
   ]
  },
  {
   "cell_type": "markdown",
   "metadata": {
    "slideshow": {
     "slide_type": "slide"
    }
   },
   "source": [
    "# O mnie\n",
    "\n",
    "<div style=\"display:flex; flex-direction: cols\">\n",
    "<div >\n",
    "Absolwent Politechniki Wrocławskiej na kierunku Informatyka.\n",
    "\n",
    "Były doktorant na Katedrze Sztucznej Inteligencji zajmujący się zatsosowaniem sztucznej inteligencji w medycynie.\n",
    "\n",
    "Zawodowo programista w CDDLabs.\n",
    "</div>\n",
    "<div>\n",
    "  <img width=\"300\" height=\"300\" src=\"avatar.jpg\" style=\"margin:0\" >\n",
    "</div>\n",
    "\n",
    "</div>"
   ]
  },
  {
   "cell_type": "markdown",
   "metadata": {
    "slideshow": {
     "slide_type": "slide"
    }
   },
   "source": [
    "# Zawartość kursu\n",
    "\n",
    "1) **Podstawowe bilbioteki Pythona** - numpy, pandas, polars\n",
    "1) **Podstawy techniczne sieci neuronowych** - Napiszmy własną sieć neuronową\n",
    "1) **Analiza danych** - Na co zwrócić uwagę przy analizie danych. Preprocessing danych\n",
    "1) **Framework** - Zapoznajmy się z PyTorch Lightning\n",
    "1) **Multi Layer Perceptron** - Przykłady wykorzystania prostych sieci neuronowych\n",
    "1) **Computer Vision** - Podstawy działania i przykłady zastosowania sieci neuronowych do klasyfikacji obrazów i wykrywania obiektów\n",
    "1) **GenAI** - Podstawy budowy LLM, ich zastosowanie, problemy etyczno-prawne\n",
    "1) **Zaawansowane trenowanie** - Metody optymalizacji procesu trenowania sieci, napiszemy własny model dyfuzyjny"
   ]
  },
  {
   "cell_type": "markdown",
   "metadata": {
    "slideshow": {
     "slide_type": "slide"
    }
   },
   "source": [
    "# Zastosowania AI"
   ]
  },
  {
   "cell_type": "markdown",
   "metadata": {
    "slideshow": {
     "slide_type": "subslide"
    }
   },
   "source": [
    "## Przetwarzanie tekstu (NLP - Natural Language Processing)\n",
    "\n",
    "![nlp.png](nlp.png)"
   ]
  },
  {
   "cell_type": "markdown",
   "metadata": {
    "slideshow": {
     "slide_type": "subslide"
    }
   },
   "source": [
    "## Przetwarzanie tekstu (NLP - Natural Language Processing)\n",
    "* Translacja tekstu  \n",
    "  Tłumaczenie tekstu z jednego języka na inny\n",
    "* Klasyfikacja tekstu (analiza sentymentu)  \n",
    "  Analiza tekstu i określenie czy tekst jest agresywny/neutralny/pozytywny lub wg. innych kategorii\n",
    "* Ekstrakcja treści  \n",
    "  Pozyskanie z wejściowego tekstu wskazanych treści\n",
    "* Generacja treści  \n",
    "  Generacja tekstu na podstawie danych wejściowych (prompt/obraz/dźwięk/dokumenty)\n",
    "* Question Answering  \n",
    "  Wyszukiwanie odpowiedzi na pytanie w tekście źródłowym\n",
    "* Embedding tekstu  \n",
    "  Transformacja tekstu na postać wektora\n",
    "  "
   ]
  },
  {
   "cell_type": "markdown",
   "metadata": {
    "slideshow": {
     "slide_type": "subslide"
    }
   },
   "source": [
    "## Przetwarzanie obrazów (CV - Computer Vision)\n",
    "\n",
    "![cv.png](cv.png)"
   ]
  },
  {
   "cell_type": "markdown",
   "metadata": {
    "slideshow": {
     "slide_type": "subslide"
    }
   },
   "source": [
    "## Przetwarzanie obrazów (CV - Computer Vision)\n",
    "* Klasyfikacja obrazów  \n",
    "  Klasyfikacja obrazu na zadane kategorie np. kot/pies/dom/niebo\n",
    "* Segmentacja semantyczna  \n",
    "  Wyznaczenie obszarów o tej samej kategorii\n",
    "* Segmentacja instancyjna  \n",
    "  Wyznaczenie obszarów należących do jednego obiektu\n",
    "* Detekcja obiektów  \n",
    "  Wykrywanie obiektów na obrazach\n",
    "* Detekcja pozy  \n",
    "  Wykrywanie pozy osoby na obrazie/video - kinect\n",
    "* Generacja obrazów  \n",
    "  Generacja nowych obrazów na podstawie danych wejściowych (prompt/inny obraz/dźwięk)"
   ]
  },
  {
   "cell_type": "markdown",
   "metadata": {
    "slideshow": {
     "slide_type": "subslide"
    }
   },
   "source": [
    "## Przetwarzanie dźwięku\n",
    "\n",
    "![sound.png](sound.png)"
   ]
  },
  {
   "cell_type": "markdown",
   "metadata": {
    "slideshow": {
     "slide_type": "subslide"
    }
   },
   "source": [
    "## Przetwarzanie dźwięku\n",
    "* Transkrypcja mowy  \n",
    "  Przetwarzanie mowy na tekst - Youtube, Whisper\n",
    "* Synteza mowy  \n",
    "  Przekształcenie tekstu/dokumentu na mowę - NotebookLM\n",
    "* Klonowanie głosu  \n",
    "  Przekształcenie wypowiedzi jednej osoby z użyciem głosu innej osoby\n",
    "* Generacja muzyki  \n",
    "  Generacja muzyki na podstawie zadanych danych wejściowych - styl, tempo, etc"
   ]
  },
  {
   "cell_type": "markdown",
   "metadata": {
    "slideshow": {
     "slide_type": "subslide"
    }
   },
   "source": [
    "## Przetwarzanie grafów\n",
    "\n",
    "![graph.png](graph.png)"
   ]
  },
  {
   "cell_type": "markdown",
   "metadata": {
    "slideshow": {
     "slide_type": "subslide"
    }
   },
   "source": [
    "## Przetwarzanie grafów\n",
    "* Klasyfikacja węzłów  \n",
    "  Klasyfikacja węzłów grafu np. istotny element sieci elektrycznej/nieistotny element sieci elektrycznej\n",
    "* Predykcja powiązań  \n",
    "  Predykcja nowych powiązań pomiędzy elementami grafu/sieci - Facebook\n",
    "* Klasyfikacja grafów  \n",
    "  Klasyfikacja grafów do zadanych kategorii - np. toksyczne białko, neutralne białko\n",
    "* Klasteryzacja grafów  \n",
    "  Wykrywanie powiązanych elementów grafu - detekcja sieci oszustów w sieci Bitcoin\n",
    "* Generacja grafów  \n",
    "  Generacja grafu na podstawie zadanych warunków - np. drug discovery"
   ]
  },
  {
   "cell_type": "markdown",
   "metadata": {
    "slideshow": {
     "slide_type": "subslide"
    }
   },
   "source": [
    "## i wiele innych\n",
    "\n",
    "![other.png](other.png)"
   ]
  },
  {
   "cell_type": "markdown",
   "metadata": {
    "slideshow": {
     "slide_type": "subslide"
    }
   },
   "source": [
    "## i wiele innych\n",
    "* Analiza sygnałów  \n",
    "  Klasyfikacja sygnałów np. EEG na zadane klasy - otwarcie ręki/zamknięcie ręki lub generacja obrazów\n",
    "* Detekcja oszustw    \n",
    "  Wykrywanie oszustw w np. przelewach bankowych\n",
    "* Systemy rekomendacyjne  \n",
    "  Generowanie listy rekomendacji dla użytkownika na podstawie zachowań innych użytkowników\n",
    "* Reinforcement Learning  \n",
    "  Trenowanie sieci ze wzmocnieniem - np. trenowanie sieci do gry w TrackManię\n",
    "* Generatywne silniki gier  \n",
    "  Sieć generuje obraz który widzi gracz na podstawie stanu gry, czyniąc z sieci silnik gry"
   ]
  },
  {
   "cell_type": "markdown",
   "metadata": {
    "slideshow": {
     "slide_type": "slide"
    }
   },
   "source": [
    "# Ankieta\n",
    "![Ankieta](forms.png \"Ankieta\")\n",
    "\n",
    "https://forms.gle/4PuH2Be2pt1w6k7U8"
   ]
  },
  {
   "cell_type": "markdown",
   "metadata": {
    "slideshow": {
     "slide_type": "slide"
    }
   },
   "source": [
    "# Pytania i odpowiedzi"
   ]
  },
  {
   "cell_type": "markdown",
   "metadata": {
    "slideshow": {
     "slide_type": "subslide"
    }
   },
   "source": [
    "## Repozytorium materiałów\n",
    "![repo.png](repo.png)\n",
    "\n",
    "https://github.com/MichalKarol/Kurs-Podstawy-AI"
   ]
  },
  {
   "cell_type": "markdown",
   "metadata": {
    "slideshow": {
     "slide_type": "subslide"
    }
   },
   "source": [
    "## Python\n",
    "\n",
    "Przed rozpoczęciem prac na repozytorium\n",
    "``` bash\n",
    "python -m venv .venv\n",
    "source .venv/bin/activate\n",
    "pip install -r requirements.txt\n",
    "```\n"
   ]
  },
  {
   "cell_type": "markdown",
   "metadata": {
    "slideshow": {
     "slide_type": "subslide"
    }
   },
   "source": [
    "## Pytania\n",
    "\n",
    "![Pytania](questions.png \"Pytania\")\n",
    "\n",
    "https://forms.gle/c74Zg6dzFXjNo38c6"
   ]
  }
 ],
 "metadata": {
  "language_info": {
   "name": "python"
  }
 },
 "nbformat": 4,
 "nbformat_minor": 2
}

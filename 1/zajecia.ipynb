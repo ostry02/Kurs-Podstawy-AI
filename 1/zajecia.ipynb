{
 "cells": [
  {
   "cell_type": "code",
   "execution_count": 4,
   "metadata": {},
   "outputs": [],
   "source": [
    "# Helper function\n",
    "import traceback\n",
    "\n",
    "def pprint(*args):\n",
    "    stack = traceback.extract_stack(limit=2)\n",
    "    current = stack[-1]\n",
    "    prev = stack[-2]\n",
    "    f_name = current.name\n",
    "    line = prev.line\n",
    "    if line.startswith(f\"{f_name}(\"):\n",
    "        line = line[len(f\"{f_name}(\"):]\n",
    "    if line.endswith(\")\"):\n",
    "        line = line[:-1]\n",
    "    print(line)\n",
    "    print(\",\".join([repr(arg) for arg in args]))\n",
    "    print()"
   ]
  },
  {
   "cell_type": "markdown",
   "metadata": {},
   "source": [
    "# Wprowadzenie do Numpy, Pandas, Matplotlib, Seaborn"
   ]
  },
  {
   "cell_type": "markdown",
   "metadata": {},
   "source": [
    "## NumPy\n",
    "\n",
    "NumPy jest biblioteką do pracy z macierzami danych (głównie liczbowych). Pozwala na optymalizację pracy z skalarami, wektorami, macierzami oraz tensorami poprzez rozbudowany zestaw operatorów matematycznych/logicznych/statystycznych wymaganych do ich przetwarzania."
   ]
  },
  {
   "cell_type": "markdown",
   "metadata": {},
   "source": [
    "### Czym jest skalar, wektor, macierz, tensor?\n",
    "* Skalar to liczba, która może przyjmować wartości ujemne lub dodatnie.\n",
    "* Wektor to tablica jednowymiarowa zawierająca N wartości liczbowych (N).\n",
    "* Macierz to tablica liczb w postaci dwuwymiarowej (MxN).\n",
    "* Tensor to uogólniająca struktura danych pozwalająca na przechowywanie danych o dowolnej liczbie wymiarów, zaczynając od 0-wymiarów czyli skalara, przez wektor, macierz po N-wymiarową tablicę liczb."
   ]
  },
  {
   "cell_type": "markdown",
   "metadata": {},
   "source": [
    "## Użycie"
   ]
  },
  {
   "cell_type": "code",
   "execution_count": 5,
   "metadata": {},
   "outputs": [],
   "source": [
    "import numpy as np"
   ]
  },
  {
   "cell_type": "markdown",
   "metadata": {},
   "source": [
    "### Tworzenie macierzy"
   ]
  },
  {
   "cell_type": "code",
   "execution_count": 6,
   "metadata": {},
   "outputs": [
    {
     "name": "stdout",
     "output_type": "stream",
     "text": [
      "np.array([[1, 2, 3], [4, 5, 6]])\n",
      "array([[1, 2, 3],\n",
      "       [4, 5, 6]])\n",
      "\n"
     ]
    }
   ],
   "source": [
    "# Z listy\n",
    "pprint(np.array([[1, 2, 3], [4, 5, 6]]))"
   ]
  },
  {
   "cell_type": "code",
   "execution_count": 7,
   "metadata": {},
   "outputs": [
    {
     "name": "stdout",
     "output_type": "stream",
     "text": [
      "np.zeros((2, 3))\n",
      "array([[0., 0., 0.],\n",
      "       [0., 0., 0.]])\n",
      "\n",
      "np.ones((2, 3))\n",
      "array([[1., 1., 1.],\n",
      "       [1., 1., 1.]])\n",
      "\n",
      "np.eye(3)\n",
      "array([[1., 0., 0.],\n",
      "       [0., 1., 0.],\n",
      "       [0., 0., 1.]])\n",
      "\n",
      "np.zeros_like(np.eye(4))\n",
      "array([[0., 0., 0., 0.],\n",
      "       [0., 0., 0., 0.],\n",
      "       [0., 0., 0., 0.],\n",
      "       [0., 0., 0., 0.]])\n",
      "\n",
      "np.ones_like(np.eye(2))\n",
      "array([[1., 1.],\n",
      "       [1., 1.]])\n",
      "\n"
     ]
    }
   ],
   "source": [
    "# Na podstawie kształtu\n",
    "pprint(np.zeros((2, 3)))\n",
    "pprint(np.ones((2, 3)))\n",
    "pprint(np.eye(3))\n",
    "pprint(np.zeros_like(np.eye(4)))\n",
    "pprint(np.ones_like(np.eye(2)))"
   ]
  },
  {
   "cell_type": "code",
   "execution_count": 3,
   "metadata": {},
   "outputs": [
    {
     "ename": "NameError",
     "evalue": "name 'pprint' is not defined",
     "output_type": "error",
     "traceback": [
      "\u001b[0;31m---------------------------------------------------------------------------\u001b[0m",
      "\u001b[0;31mNameError\u001b[0m                                 Traceback (most recent call last)",
      "Cell \u001b[0;32mIn[3], line 2\u001b[0m\n\u001b[1;32m      1\u001b[0m \u001b[38;5;66;03m# Na podstawie zakresu\u001b[39;00m\n\u001b[0;32m----> 2\u001b[0m \u001b[43mpprint\u001b[49m(np\u001b[38;5;241m.\u001b[39marange(\u001b[38;5;241m0\u001b[39m, \u001b[38;5;241m10\u001b[39m, \u001b[38;5;241m2\u001b[39m))\n\u001b[1;32m      3\u001b[0m pprint(np\u001b[38;5;241m.\u001b[39mlinspace(\u001b[38;5;241m0\u001b[39m, \u001b[38;5;241m10\u001b[39m, \u001b[38;5;241m6\u001b[39m))\n",
      "\u001b[0;31mNameError\u001b[0m: name 'pprint' is not defined"
     ]
    }
   ],
   "source": [
    "# Na podstawie zakresu\n",
    "pprint(np.arange(0, 10, 2))\n",
    "pprint(np.linspace(0, 10, 6))"
   ]
  },
  {
   "cell_type": "code",
   "execution_count": 2,
   "metadata": {},
   "outputs": [
    {
     "ename": "NameError",
     "evalue": "name 'pprint' is not defined",
     "output_type": "error",
     "traceback": [
      "\u001b[0;31m---------------------------------------------------------------------------\u001b[0m",
      "\u001b[0;31mNameError\u001b[0m                                 Traceback (most recent call last)",
      "Cell \u001b[0;32mIn[2], line 2\u001b[0m\n\u001b[1;32m      1\u001b[0m \u001b[38;5;66;03m# Wykorzystując losowe dane\u001b[39;00m\n\u001b[0;32m----> 2\u001b[0m \u001b[43mpprint\u001b[49m(np\u001b[38;5;241m.\u001b[39mrandom\u001b[38;5;241m.\u001b[39mnormal(size\u001b[38;5;241m=\u001b[39m(\u001b[38;5;241m3\u001b[39m, \u001b[38;5;241m3\u001b[39m)))\n\u001b[1;32m      3\u001b[0m pprint(np\u001b[38;5;241m.\u001b[39mrandom\u001b[38;5;241m.\u001b[39muniform(size\u001b[38;5;241m=\u001b[39m(\u001b[38;5;241m3\u001b[39m, \u001b[38;5;241m3\u001b[39m)))\n\u001b[1;32m      4\u001b[0m pprint(np\u001b[38;5;241m.\u001b[39mrandom\u001b[38;5;241m.\u001b[39mbinomial(\u001b[38;5;241m1\u001b[39m, \u001b[38;5;241m0.2\u001b[39m, size\u001b[38;5;241m=\u001b[39m(\u001b[38;5;241m3\u001b[39m, \u001b[38;5;241m3\u001b[39m)))\n",
      "\u001b[0;31mNameError\u001b[0m: name 'pprint' is not defined"
     ]
    }
   ],
   "source": [
    "# Wykorzystując losowe dane\n",
    "pprint(np.random.normal(size=(3, 3)))\n",
    "pprint(np.random.uniform(size=(3, 3)))\n",
    "pprint(np.random.binomial(1, 0.2, size=(3, 3)))"
   ]
  },
  {
   "cell_type": "markdown",
   "metadata": {},
   "source": [
    "### Zapisywanie i odczytywanie danych"
   ]
  },
  {
   "cell_type": "code",
   "execution_count": 12,
   "metadata": {},
   "outputs": [
    {
     "name": "stdout",
     "output_type": "stream",
     "text": [
      "[[1.]]\n",
      "NpzFile 'zeros_and_ones.npz' with keys: ones, arr_0\n",
      "[[0.]]\n",
      "[[1.]]\n",
      "NpzFile 'zeros_and_ones_compressed.npz' with keys: ones, arr_0\n",
      "[[0.]]\n",
      "[[1.]]\n"
     ]
    }
   ],
   "source": [
    "# Pojedynczy tensor bez kompresji\n",
    "np.save(\"ones.npy\", np.ones((1, 1)), allow_pickle=False)\n",
    "print(np.load(\"ones.npy\"))\n",
    "\n",
    "# Kilka tensorów bez kompresji (ZIP file)\n",
    "np.savez('zeros_and_ones.npz', np.zeros((1, 1)), ones=np.ones((1, 1)))\n",
    "print(np.load('zeros_and_ones.npz'))\n",
    "print(np.load('zeros_and_ones.npz')[\"arr_0\"])\n",
    "print(np.load('zeros_and_ones.npz')[\"ones\"])\n",
    "\n",
    "# Kilka tensorów z kompresją (ZIP file)\n",
    "np.savez_compressed('zeros_and_ones_compressed.npz', np.zeros((1, 1)), ones=np.ones((1, 1)))\n",
    "print(np.load('zeros_and_ones_compressed.npz'))\n",
    "print(np.load('zeros_and_ones_compressed.npz')[\"arr_0\"])\n",
    "print(np.load('zeros_and_ones_compressed.npz')[\"ones\"])\n"
   ]
  },
  {
   "cell_type": "code",
   "execution_count": 13,
   "metadata": {},
   "outputs": [
    {
     "name": "stdout",
     "output_type": "stream",
     "text": [
      "os.stat(\"ones.npy\").st_size\n",
      "136\n",
      "\n",
      "os.stat(\"zeros_and_ones.npz\").st_size\n",
      "520\n",
      "\n",
      "os.stat(\"zeros_and_ones_compressed.npz\").st_size\n",
      "396\n",
      "\n"
     ]
    }
   ],
   "source": [
    "import os\n",
    "pprint(os.stat(\"ones.npy\").st_size)\n",
    "pprint(os.stat(\"zeros_and_ones.npz\").st_size)\n",
    "pprint(os.stat(\"zeros_and_ones_compressed.npz\").st_size)"
   ]
  },
  {
   "cell_type": "markdown",
   "metadata": {},
   "source": [
    "### Operacje na tensorach"
   ]
  },
  {
   "cell_type": "code",
   "execution_count": null,
   "metadata": {},
   "outputs": [],
   "source": [
    "# Wymiary tensora\n",
    "pprint(np.ones((3, 3)).shape)"
   ]
  },
  {
   "cell_type": "code",
   "execution_count": null,
   "metadata": {},
   "outputs": [],
   "source": [
    "# Typ danych tensora\n",
    "pprint(np.ones((3, 3)).dtype)\n",
    "\n",
    "# Zmiana typu danych\n",
    "pprint(np.ones((3, 3)).astype(np.float16))"
   ]
  },
  {
   "cell_type": "code",
   "execution_count": null,
   "metadata": {},
   "outputs": [],
   "source": [
    "# Operacje ze skalarami\n",
    "matrix = np.eye(3)\n",
    "scalar = 3\n",
    "pprint(matrix + scalar)"
   ]
  },
  {
   "cell_type": "code",
   "execution_count": null,
   "metadata": {},
   "outputs": [],
   "source": [
    "# Operacje z wektorami\n",
    "matrix = np.eye(3)\n",
    "vector = np.arange(0, 3) * 4\n",
    "pprint(matrix + vector)\n",
    "pprint(matrix * vector)"
   ]
  },
  {
   "cell_type": "code",
   "execution_count": null,
   "metadata": {},
   "outputs": [],
   "source": [
    "# Operacje z tensorami\n",
    "matrix_a = np.ones((2, 4))\n",
    "matrix_b = np.ones((2, 4)) * 3\n",
    "pprint(matrix_a + matrix_b)\n",
    "print(\"np.multiply(matrix_a, matrix_b)\")\n",
    "pprint(matrix_a * matrix_b)\n",
    "\n",
    "# Transponowanie macierzy\n",
    "pprint(matrix_b.T, matrix_b.shape, matrix_b.T.shape)\n",
    "\n",
    "\n",
    "# Mnożenie macierzy\n",
    "print(\"np.dot(matrix_a, matrix_b.T)\")\n",
    "pprint(matrix_a @ matrix_b.T)"
   ]
  },
  {
   "cell_type": "code",
   "execution_count": null,
   "metadata": {},
   "outputs": [],
   "source": [
    "# Spłaszczanie tensora\n",
    "pprint(np.eye(3).ravel())\n",
    "\n",
    "# Składanie tensora\n",
    "pprint(np.reshape(np.arange(9), (1, 1, 3, 3)))"
   ]
  },
  {
   "cell_type": "code",
   "execution_count": null,
   "metadata": {},
   "outputs": [],
   "source": [
    "#  Dostęp do elementu\n",
    "a = np.reshape(np.arange(9), (3, 3))\n",
    "pprint(a)\n",
    "pprint(a[1, 2])\n",
    "pprint(a[2])\n",
    "pprint(a[2, :])\n",
    "pprint(a[:, 2])"
   ]
  },
  {
   "cell_type": "code",
   "execution_count": null,
   "metadata": {},
   "outputs": [],
   "source": [
    "# Zmiana elementu\n",
    "a = np.reshape(np.arange(9), (3, 3))\n",
    "pprint(a)\n",
    "\n",
    "a[1,1] = 70\n",
    "pprint(a)\n",
    "\n",
    "sub_a = a[1:3, :]\n",
    "sub_a[1, 2] = 40\n",
    "pprint(sub_a)\n",
    "pprint(a)"
   ]
  },
  {
   "cell_type": "markdown",
   "metadata": {},
   "source": [
    "### Operacje matematyczne"
   ]
  },
  {
   "cell_type": "code",
   "execution_count": null,
   "metadata": {},
   "outputs": [],
   "source": [
    "# Funkcje trygonometryczne\n",
    "pprint(np.sin(np.pi * np.arange(0, 5, 1/2)))\n",
    "pprint(np.cos(np.pi * np.arange(0, 5, 1/2)))\n",
    "\n",
    "# Eksponenta\n",
    "pprint(np.exp(np.arange(0, 5, 1/2)))\n"
   ]
  },
  {
   "cell_type": "markdown",
   "metadata": {},
   "source": [
    "### Funkcje statystyczne"
   ]
  },
  {
   "cell_type": "code",
   "execution_count": null,
   "metadata": {},
   "outputs": [],
   "source": [
    "pprint(np.mean(np.arange(10)))\n",
    "pprint(np.max(np.arange(10)))\n",
    "pprint(np.min(np.arange(10)))"
   ]
  },
  {
   "cell_type": "code",
   "execution_count": null,
   "metadata": {},
   "outputs": [],
   "source": [
    "# Wykorzystanie axis\n",
    "a = np.random.normal(size=(3, 3))\n",
    "pprint(a)\n",
    "pprint(np.max(a, axis=0))\n",
    "pprint(np.max(a, axis=1))\n",
    "pprint(np.max(np.reshape(a, (1, 3, 3)), axis=0))"
   ]
  },
  {
   "cell_type": "markdown",
   "metadata": {},
   "source": [
    "### Łączenie tensorów"
   ]
  },
  {
   "cell_type": "code",
   "execution_count": null,
   "metadata": {},
   "outputs": [],
   "source": [
    "# hstack - konkatynacja w poziomie\n",
    "# vstack - konkatynacja w pionie\n",
    "# stack - konkatynacja w nowym wymiarze\n",
    "\n",
    "a = np.zeros((2, 4))\n",
    "b = np.ones((2, 4))\n",
    "c = np.random.normal(size=(2))\n",
    "d = np.random.normal(size=(4))\n",
    "\n",
    "pprint(a)\n",
    "pprint(b)\n",
    "pprint(c)\n",
    "pprint(d)\n",
    "\n",
    "# Łączenie dwóch macierzy\n",
    "pprint(np.hstack([a, b]))\n",
    "pprint(np.vstack([a, b]))\n",
    "pprint(np.stack([a, b]), np.stack([a, b]).shape)\n",
    "\n",
    "# Łączenie macierzy i wektora\n",
    "pprint(c[:, None].shape)\n",
    "pprint(np.hstack([a, c[:, None]]))\n",
    "pprint(np.vstack([a, d[None, :]]))\n",
    "\n",
    "# Generyczny operator konkatynacji\n",
    "pprint(np.concatenate([a, b]))\n",
    "pprint(np.concatenate([a, b], axis=1))\n",
    "pprint(np.concatenate([a, c[:, None]], axis=1))\n",
    "pprint(np.concatenate([a, d[None, :]], axis=0))"
   ]
  },
  {
   "cell_type": "markdown",
   "metadata": {},
   "source": [
    "# Matplotlib\n",
    "Biblioteka do rysowania wykresów."
   ]
  },
  {
   "cell_type": "code",
   "execution_count": 1,
   "metadata": {},
   "outputs": [
    {
     "name": "stderr",
     "output_type": "stream",
     "text": [
      "Matplotlib is building the font cache; this may take a moment.\n"
     ]
    }
   ],
   "source": [
    "import matplotlib.pyplot as plt"
   ]
  },
  {
   "cell_type": "code",
   "execution_count": null,
   "metadata": {},
   "outputs": [],
   "source": [
    "# Prosty przykład wyrysowania przebiegu funkcji sinus\n",
    "plt.plot(np.sin(np.linspace(0, 10, 20)))"
   ]
  },
  {
   "cell_type": "code",
   "execution_count": null,
   "metadata": {},
   "outputs": [],
   "source": [
    "# Kilka serii danych na jednym wykresie\n",
    "plt.plot(np.sin(np.linspace(0, 10, 20)))\n",
    "plt.plot(np.cos(np.linspace(0, 10, 20)))"
   ]
  },
  {
   "cell_type": "code",
   "execution_count": null,
   "metadata": {},
   "outputs": [],
   "source": [
    "# Dodanie opisów osi\n",
    "fig, ax = plt.subplots() \n",
    "ax.plot(np.sin(np.linspace(0, 10, 20)))\n",
    "ax.set_xlabel('Oś X')\n",
    "ax.set_ylabel('OS Y')\n",
    "ax.set_title('Funkcja sin')\n"
   ]
  },
  {
   "cell_type": "code",
   "execution_count": null,
   "metadata": {},
   "outputs": [],
   "source": [
    "# Zapisanie wykresu\n",
    "fig, ax = plt.subplots() \n",
    "ax.plot(np.sin(np.linspace(0, 10, 20)))\n",
    "ax.plot(np.cos(np.linspace(0, 10, 20)))\n",
    "ax.set_xlabel('Oś X')\n",
    "ax.set_ylabel('OS Y')\n",
    "ax.set_title('Funkcje sin i cos')\n",
    "fig.savefig(\"figure.png\")"
   ]
  },
  {
   "cell_type": "code",
   "execution_count": null,
   "metadata": {},
   "outputs": [],
   "source": [
    "# Siatka wykresów\n",
    "fig, ax = plt.subplots(2,2) \n",
    "sin = np.sin(np.linspace(0, 10, 20))\n",
    "cos = np.cos(np.linspace(0, 10, 20))\n",
    "ax[0, 0].plot(sin)\n",
    "ax[0, 1].plot(sin)\n",
    "ax[0, 1].plot(cos)\n",
    "ax[1, 0].plot(cos)\n",
    "ax[1, 0].plot(sin)\n",
    "ax[1, 1].plot(cos)"
   ]
  },
  {
   "cell_type": "code",
   "execution_count": null,
   "metadata": {},
   "outputs": [],
   "source": [
    "# Wykres z prawidłową skalą osi x\n",
    "plt.plot(np.linspace(0, 10, 20), np.sin(np.linspace(0, 10, 20)))"
   ]
  },
  {
   "cell_type": "code",
   "execution_count": null,
   "metadata": {},
   "outputs": [],
   "source": [
    "# Scatter plot\n",
    "plt.plot(np.linspace(0, 10, 20), np.sin(np.linspace(0, 10, 20)), \"o\")"
   ]
  },
  {
   "cell_type": "code",
   "execution_count": null,
   "metadata": {},
   "outputs": [],
   "source": [
    "# Histogram\n",
    "plt.hist(np.sin(np.linspace(0, 10, 20)))"
   ]
  },
  {
   "cell_type": "code",
   "execution_count": null,
   "metadata": {},
   "outputs": [],
   "source": [
    "# Płaszczyzna\n",
    "xindices, yindices = np.meshgrid(np.arange(40), np.arange(40))\n",
    "plane = np.sin(xindices) + yindices\n",
    "plt.imshow(plane)"
   ]
  },
  {
   "cell_type": "code",
   "execution_count": null,
   "metadata": {},
   "outputs": [],
   "source": [
    "# Colormapa\n",
    "xindices, yindices = np.meshgrid(np.arange(400), np.arange(400))\n",
    "plane = np.sin(xindices / 40) + yindices / 40\n",
    "plt.imshow(plane, cmap=\"Reds\")\n",
    "plt.imsave(\"reds.png\", plane, cmap=\"Reds\")"
   ]
  },
  {
   "cell_type": "code",
   "execution_count": null,
   "metadata": {},
   "outputs": [],
   "source": [
    "import cv2 as cv"
   ]
  },
  {
   "cell_type": "code",
   "execution_count": null,
   "metadata": {},
   "outputs": [],
   "source": [
    "img = cv.imread(\"test_image.jpg\")\n",
    "pprint(img.shape)\n",
    "plt.imshow(img)"
   ]
  },
  {
   "cell_type": "code",
   "execution_count": null,
   "metadata": {},
   "outputs": [],
   "source": [
    "# OpenCV otwiera obrazy w formacie BGR\n",
    "img_correct = cv.cvtColor(img, cv.COLOR_BGR2RGB)\n",
    "plt.imshow(img_correct)"
   ]
  },
  {
   "cell_type": "code",
   "execution_count": null,
   "metadata": {},
   "outputs": [],
   "source": [
    "plt.imshow(img_correct[:, :, 0], cmap=\"grey\")"
   ]
  },
  {
   "cell_type": "code",
   "execution_count": null,
   "metadata": {},
   "outputs": [],
   "source": [
    "plt.imshow(np.max(img_correct, axis=2), cmap='grey')"
   ]
  },
  {
   "cell_type": "code",
   "execution_count": null,
   "metadata": {},
   "outputs": [],
   "source": [
    "plt.imshow(np.mean(img_correct, axis=2), cmap='grey')"
   ]
  },
  {
   "cell_type": "code",
   "execution_count": null,
   "metadata": {},
   "outputs": [],
   "source": [
    "fig, ax = plt.subplots(2, 2)\n",
    "ax[0, 0].imshow(img_correct[:, :, 0], cmap='grey')\n",
    "ax[0, 1].imshow(img_correct[:, :, 1], cmap='grey')\n",
    "ax[1, 0].imshow(img_correct[:, :, 2], cmap='grey')\n",
    "ax[1, 1].imshow(img_correct)"
   ]
  },
  {
   "cell_type": "markdown",
   "metadata": {},
   "source": [
    "## Pandas\n",
    "Biblioteka do pracy z danymi tabelarycznymi."
   ]
  },
  {
   "cell_type": "code",
   "execution_count": null,
   "metadata": {},
   "outputs": [],
   "source": [
    "import pandas as pd"
   ]
  },
  {
   "cell_type": "code",
   "execution_count": null,
   "metadata": {},
   "outputs": [],
   "source": [
    "# Tworzenie DataFrame z listy\n",
    "pd.DataFrame([\n",
    "    [2019, \"Ala\", \"kota\"],\n",
    "    [2023, \"Tola\", \"psa\"]\n",
    "], columns=[\"yob\", \"name\", \"animal\"])"
   ]
  },
  {
   "cell_type": "code",
   "execution_count": null,
   "metadata": {},
   "outputs": [],
   "source": [
    "# Tworzenie DataFrame z dicta\n",
    "pd.DataFrame([\n",
    "    dict(yob=2019, name=\"Ala\", animal=\"kota\"),\n",
    "    dict(yob=2023, name=\"Tola\", animal=\"psa\"),\n",
    "])"
   ]
  },
  {
   "cell_type": "code",
   "execution_count": null,
   "metadata": {},
   "outputs": [],
   "source": [
    "# Otwieranie danych z CSV\n",
    "movies = pd.read_csv(\"imdb_movie_dataset.csv\")\n",
    "movies"
   ]
  },
  {
   "cell_type": "code",
   "execution_count": null,
   "metadata": {},
   "outputs": [],
   "source": [
    "# Otwieranie danych z URL\n",
    "people = pd.read_csv(\"https://drive.google.com/uc?id=1AWPf-pJodJKeHsARQK_RHiNsE8fjPCVK&export=download\")\n",
    "people"
   ]
  },
  {
   "cell_type": "code",
   "execution_count": null,
   "metadata": {},
   "outputs": [],
   "source": [
    "# Podstawowa analiza danych\n",
    "pprint(movies.columns)\n",
    "pprint(movies[\"Rating\"].value_counts())"
   ]
  },
  {
   "cell_type": "code",
   "execution_count": null,
   "metadata": {},
   "outputs": [],
   "source": [
    "movies.info()"
   ]
  },
  {
   "cell_type": "code",
   "execution_count": null,
   "metadata": {},
   "outputs": [],
   "source": [
    "movies.describe()"
   ]
  },
  {
   "cell_type": "code",
   "execution_count": null,
   "metadata": {},
   "outputs": [],
   "source": [
    "# Histogramy wartości\n",
    "pprint(movies[\"Rating\"].value_counts().head(10).plot(kind=\"bar\"))"
   ]
  },
  {
   "cell_type": "code",
   "execution_count": null,
   "metadata": {},
   "outputs": [],
   "source": [
    "# Dynamiczne dodawanie kolumn\n",
    "movies[\"Runtime (Hours)\"] = movies[\"Runtime (Minutes)\"] / 60\n",
    "movies[\"Dir_upper\"] = movies[\"Director\"].apply(lambda x: x.upper())\n",
    "pprint(movies[\"Runtime (Hours)\"])\n",
    "pprint(movies[\"Dir_upper\"])"
   ]
  },
  {
   "cell_type": "code",
   "execution_count": null,
   "metadata": {},
   "outputs": [],
   "source": [
    "# Konwertowanie daty\n",
    "people[\"dob\"] = pd.to_datetime(people[\"Date of birth\"])\n",
    "people[\"year\"] = people[\"dob\"].dt.year\n",
    "people"
   ]
  },
  {
   "cell_type": "code",
   "execution_count": null,
   "metadata": {},
   "outputs": [],
   "source": [
    "grouped_movies = movies.groupby([\"Year\"])[\"Rank\"].count()\n",
    "grouped_movies"
   ]
  },
  {
   "cell_type": "code",
   "execution_count": null,
   "metadata": {},
   "outputs": [],
   "source": [
    "# Przeniesienie kolumny grupującej z indeksu do kolumn\n",
    "grouped_movies.reset_index()"
   ]
  },
  {
   "cell_type": "code",
   "execution_count": null,
   "metadata": {},
   "outputs": [],
   "source": [
    "# Pokaż grupę\n",
    "movies.groupby([\"Year\"]).get_group((2006,))"
   ]
  },
  {
   "cell_type": "code",
   "execution_count": null,
   "metadata": {},
   "outputs": [],
   "source": [
    "# Iteracja po danych\n",
    "for i, row in list(movies.iterrows())[:1]:\n",
    "    pprint(i, row[\"Year\"])\n",
    "    pprint(row)\n"
   ]
  },
  {
   "cell_type": "code",
   "execution_count": null,
   "metadata": {},
   "outputs": [],
   "source": [
    "# Dostęp po indexie\n",
    "movies.loc[movies[\"Rank\"] == 1]"
   ]
  },
  {
   "cell_type": "code",
   "execution_count": null,
   "metadata": {},
   "outputs": [],
   "source": [
    "grouped_movies.loc[2013:2019]"
   ]
  },
  {
   "cell_type": "code",
   "execution_count": null,
   "metadata": {},
   "outputs": [],
   "source": [
    "# Dostęp po lokalizacji\n",
    "movies.iloc[0]"
   ]
  },
  {
   "cell_type": "code",
   "execution_count": null,
   "metadata": {},
   "outputs": [],
   "source": [
    "grouped_movies.iloc[0:5]"
   ]
  },
  {
   "cell_type": "code",
   "execution_count": null,
   "metadata": {},
   "outputs": [],
   "source": [
    "# Widoki danych\n",
    "movies[[\"Year\", \"Revenue (Millions)\"]]"
   ]
  },
  {
   "cell_type": "code",
   "execution_count": null,
   "metadata": {},
   "outputs": [],
   "source": [
    "# Filtrowanie danych\n",
    "movies[movies[\"Revenue (Millions)\"] > 100]"
   ]
  },
  {
   "cell_type": "code",
   "execution_count": null,
   "metadata": {},
   "outputs": [],
   "source": [
    "movies[(movies[\"Revenue (Millions)\"] > 100) & (movies[\"Year\"] > 2015)]"
   ]
  },
  {
   "cell_type": "code",
   "execution_count": null,
   "metadata": {},
   "outputs": [],
   "source": [
    "# Łączenie dwóch tabel\n",
    "movies_2 = pd.concat([movies, movies])\n",
    "movies_2"
   ]
  },
  {
   "cell_type": "code",
   "execution_count": null,
   "metadata": {},
   "outputs": [],
   "source": [
    "movies_2.duplicated()"
   ]
  },
  {
   "cell_type": "code",
   "execution_count": null,
   "metadata": {},
   "outputs": [],
   "source": [
    "movies_2_non_duplicated = movies_2.drop_duplicates()\n",
    "movies_2_non_duplicated"
   ]
  },
  {
   "cell_type": "code",
   "execution_count": null,
   "metadata": {},
   "outputs": [],
   "source": [
    "merged = pd.merge(movies, movies, how=\"inner\", left_on=\"Director\", right_on=\"Director\")\n",
    "merged[merged[\"Title_x\"]!=merged[\"Title_y\"]][[\"Director\", \"Title_x\", \"Title_y\"]]"
   ]
  },
  {
   "cell_type": "markdown",
   "metadata": {},
   "source": [
    "### Seaborn\n",
    "Biblioteka do rysowania wykresów zintegrowana z pandasem"
   ]
  },
  {
   "cell_type": "code",
   "execution_count": null,
   "metadata": {},
   "outputs": [],
   "source": [
    "import seaborn as sns"
   ]
  },
  {
   "cell_type": "code",
   "execution_count": null,
   "metadata": {},
   "outputs": [],
   "source": [
    "# Barplot\n",
    "sns.barplot(grouped_movies)"
   ]
  },
  {
   "cell_type": "code",
   "execution_count": null,
   "metadata": {},
   "outputs": [],
   "source": [
    "# Lineplot\n",
    "revenue_per_year = movies.groupby([\"Year\"])[\"Revenue (Millions)\"]\n",
    "sns.lineplot(revenue_per_year.max())\n",
    "sns.lineplot(revenue_per_year.mean())\n",
    "sns.lineplot(revenue_per_year.min())"
   ]
  },
  {
   "cell_type": "code",
   "execution_count": null,
   "metadata": {},
   "outputs": [],
   "source": [
    "# Scatterplot\n",
    "movies[\"First_Genre\"] = movies[\"Genre\"].str.split(',').str[0]\n",
    "revenue_per_year_genre = movies.groupby([\"Year\", \"First_Genre\"]).agg({\"Rank\":\"count\"})\n",
    "sns.scatterplot(revenue_per_year_genre.reset_index(), x='Year', y=\"Rank\", hue='First_Genre')"
   ]
  },
  {
   "cell_type": "code",
   "execution_count": null,
   "metadata": {},
   "outputs": [],
   "source": [
    "# Histplot\n",
    "sns.histplot(movies, x=\"Year\", hue=\"First_Genre\", multiple=\"stack\")"
   ]
  },
  {
   "cell_type": "code",
   "execution_count": null,
   "metadata": {},
   "outputs": [],
   "source": [
    "# kernel density estimation plot\n",
    "sns.kdeplot(movies, x=\"Year\", hue=\"First_Genre\")"
   ]
  },
  {
   "cell_type": "code",
   "execution_count": null,
   "metadata": {},
   "outputs": [],
   "source": [
    "# Violin plot\n",
    "sns.violinplot(movies[movies[\"Year\"] == 2016], x=\"Year\", y=\"Revenue (Millions)\", hue=\"First_Genre\")"
   ]
  },
  {
   "cell_type": "code",
   "execution_count": null,
   "metadata": {},
   "outputs": [],
   "source": [
    "# Boxplot\n",
    "sns.boxplot(movies[movies[\"Year\"] == 2016], x=\"Year\", y=\"Revenue (Millions)\", hue=\"First_Genre\")"
   ]
  },
  {
   "cell_type": "code",
   "execution_count": null,
   "metadata": {},
   "outputs": [],
   "source": [
    "sns.violinplot(movies[movies[\"Year\"] == 2016], x=\"Year\", y=\"Revenue (Millions)\", color=\".9\", inner=None)\n",
    "sns.swarmplot(movies[movies[\"Year\"] == 2016], x=\"Year\", y=\"Revenue (Millions)\", hue=\"First_Genre\", size=3)"
   ]
  },
  {
   "cell_type": "code",
   "execution_count": null,
   "metadata": {},
   "outputs": [],
   "source": [
    "# Ustaw styl seaborn\n",
    "sns.set_theme()\n",
    "sns.scatterplot(revenue_per_year_genre.reset_index(), x='Year', y=\"Rank\", hue='First_Genre')"
   ]
  },
  {
   "cell_type": "code",
   "execution_count": null,
   "metadata": {},
   "outputs": [],
   "source": [
    "# Ustaw styl whitegrid\n",
    "sns.set_style(\"whitegrid\")\n",
    "sns.scatterplot(revenue_per_year_genre.reset_index(), x='Year', y=\"Rank\", hue='First_Genre')"
   ]
  },
  {
   "cell_type": "markdown",
   "metadata": {},
   "source": [
    "## Polars\n",
    "Biblioteka rywalizująca z pandas, napisana w rust, pozwalająca na bardzo wydajną prace z danymi"
   ]
  },
  {
   "cell_type": "code",
   "execution_count": null,
   "metadata": {},
   "outputs": [],
   "source": [
    "import polars as pl"
   ]
  },
  {
   "cell_type": "code",
   "execution_count": null,
   "metadata": {},
   "outputs": [],
   "source": [
    "# Tworzenie DataFrame z listy\n",
    "pl.DataFrame([\n",
    "    [2019, \"Ala\", \"kota\"],\n",
    "    [2023, \"Tola\", \"psa\"]\n",
    "], schema=[\"yob\", \"name\", \"animal\"], orient=\"row\")"
   ]
  },
  {
   "cell_type": "code",
   "execution_count": null,
   "metadata": {},
   "outputs": [],
   "source": [
    "# Tworzenie DataFrame z dicta\n",
    "pl.DataFrame([\n",
    "    dict(yob=2019, name=\"Ala\", animal=\"kota\"),\n",
    "    dict(yob=2023, name=\"Tola\", animal=\"psa\"),\n",
    "])"
   ]
  },
  {
   "cell_type": "code",
   "execution_count": null,
   "metadata": {},
   "outputs": [],
   "source": [
    "# Otwieranie danych z CSV\n",
    "movies = pl.read_csv(\"imdb_movie_dataset.csv\")\n",
    "movies"
   ]
  },
  {
   "cell_type": "code",
   "execution_count": null,
   "metadata": {},
   "outputs": [],
   "source": [
    "# Otwieranie danych z URL\n",
    "people = pl.read_csv(\"https://drive.google.com/uc?id=1AWPf-pJodJKeHsARQK_RHiNsE8fjPCVK&export=download\")\n",
    "people"
   ]
  },
  {
   "cell_type": "code",
   "execution_count": null,
   "metadata": {},
   "outputs": [],
   "source": [
    "# Podstawowa analiza danych\n",
    "pprint(movies.columns)\n",
    "pprint(movies[\"Rating\"].value_counts())"
   ]
  },
  {
   "cell_type": "code",
   "execution_count": null,
   "metadata": {},
   "outputs": [],
   "source": [
    "pprint(movies.null_count())\n",
    "pprint(movies.schema)"
   ]
  },
  {
   "cell_type": "code",
   "execution_count": null,
   "metadata": {},
   "outputs": [],
   "source": [
    "movies.describe()"
   ]
  },
  {
   "cell_type": "code",
   "execution_count": null,
   "metadata": {},
   "outputs": [],
   "source": [
    "# Dynamiczne dodawanie kolumn\n",
    "movies = movies.with_columns(\n",
    "    (pl.col(\"Runtime (Minutes)\") / 60).alias(\"Runtime (Hours)\"),\n",
    "    pl.col(\"Director\").map_elements(lambda x: x.upper(), return_dtype=str).alias(\"Dir_upper\")\n",
    ")\n",
    "pprint(movies.select(pl.col(\"Runtime (Hours)\")))\n",
    "pprint(movies.select(pl.col(\"Dir_upper\")))"
   ]
  },
  {
   "cell_type": "code",
   "execution_count": null,
   "metadata": {},
   "outputs": [],
   "source": [
    "# Konwertowanie daty\n",
    "people = people.with_columns(\n",
    "    pl.col(\"Date of birth\").str.to_datetime().alias(\"dob\"),\n",
    ")\n",
    "people = people.with_columns(\n",
    "    pl.col(\"dob\").dt.year().alias(\"year\"),\n",
    ")\n",
    "people"
   ]
  },
  {
   "cell_type": "code",
   "execution_count": null,
   "metadata": {},
   "outputs": [],
   "source": [
    "grouped_movies = movies.group_by([pl.col(\"Year\")]).agg(pl.col(\"Rank\").count())\n",
    "grouped_movies"
   ]
  },
  {
   "cell_type": "code",
   "execution_count": null,
   "metadata": {},
   "outputs": [],
   "source": [
    "# Pokaż grupę\n",
    "movies.group_by([pl.col(\"Year\")]).first()"
   ]
  },
  {
   "cell_type": "code",
   "execution_count": null,
   "metadata": {},
   "outputs": [],
   "source": [
    "# Iteracja po danych\n",
    "for row in list(movies.iter_rows(named=True))[:1]:\n",
    "    pprint(row[\"Year\"])\n",
    "    pprint(row)\n"
   ]
  },
  {
   "cell_type": "code",
   "execution_count": null,
   "metadata": {},
   "outputs": [],
   "source": [
    "# Dostęp po indexie\n",
    "movies.filter(pl.col(\"Rank\") == 1)"
   ]
  },
  {
   "cell_type": "code",
   "execution_count": null,
   "metadata": {},
   "outputs": [],
   "source": [
    "grouped_movies.filter((pl.col(\"Year\") <= 2019) & (pl.col(\"Year\") >= 2013))"
   ]
  },
  {
   "cell_type": "code",
   "execution_count": null,
   "metadata": {},
   "outputs": [],
   "source": [
    "# Dostęp po lokalizacji\n",
    "movies[0]"
   ]
  },
  {
   "cell_type": "code",
   "execution_count": null,
   "metadata": {},
   "outputs": [],
   "source": [
    "grouped_movies[0:5]"
   ]
  },
  {
   "cell_type": "code",
   "execution_count": null,
   "metadata": {},
   "outputs": [],
   "source": [
    "# Widoki danych\n",
    "movies.select([pl.col(\"Year\"), pl.col(\"Revenue (Millions)\")])"
   ]
  },
  {
   "cell_type": "code",
   "execution_count": null,
   "metadata": {},
   "outputs": [],
   "source": [
    "# Filtrowanie danych\n",
    "movies.filter(pl.col(\"Revenue (Millions)\") > 100)"
   ]
  },
  {
   "cell_type": "code",
   "execution_count": null,
   "metadata": {},
   "outputs": [],
   "source": [
    "movies.filter((pl.col(\"Revenue (Millions)\") > 100) & (pl.col(\"Year\") > 2015))"
   ]
  },
  {
   "cell_type": "code",
   "execution_count": null,
   "metadata": {},
   "outputs": [],
   "source": [
    "# Łączenie dwóch tabel\n",
    "movies_2 = pl.concat([movies, movies])\n",
    "movies_2"
   ]
  },
  {
   "cell_type": "code",
   "execution_count": null,
   "metadata": {},
   "outputs": [],
   "source": [
    "movies_2.is_duplicated()"
   ]
  },
  {
   "cell_type": "code",
   "execution_count": null,
   "metadata": {},
   "outputs": [],
   "source": [
    "movies_2_non_duplicated = movies_2.unique()\n",
    "movies_2_non_duplicated"
   ]
  },
  {
   "cell_type": "code",
   "execution_count": null,
   "metadata": {},
   "outputs": [],
   "source": [
    "merged = movies.join(movies, how=\"inner\", left_on=\"Director\", right_on=\"Director\")\n",
    "merged.filter(pl.col(\"Title\")!=pl.col(\"Title_right\")).select([pl.col(\"Director\"), pl.col(\"Title\"), pl.col(\"Title_right\")])"
   ]
  }
 ],
 "metadata": {
  "kernelspec": {
   "display_name": ".venv",
   "language": "python",
   "name": "python3"
  },
  "language_info": {
   "codemirror_mode": {
    "name": "ipython",
    "version": 3
   },
   "file_extension": ".py",
   "mimetype": "text/x-python",
   "name": "python",
   "nbconvert_exporter": "python",
   "pygments_lexer": "ipython3",
   "version": "3.13.0"
  }
 },
 "nbformat": 4,
 "nbformat_minor": 2
}
